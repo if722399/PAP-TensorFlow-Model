{
 "cells": [
  {
   "cell_type": "markdown",
   "id": "6fc589c4",
   "metadata": {},
   "source": [
    "## Librerías"
   ]
  },
  {
   "cell_type": "code",
   "execution_count": 1,
   "id": "1bfe7a86",
   "metadata": {},
   "outputs": [],
   "source": [
    "# Libraries which will help us to manipulate a lil bit more our data\n",
    "import numpy as np\n",
    "import pandas as pd\n",
    "\n",
    "# pandas: display all columns\n",
    "pd.set_option('display.max_columns', None)\n",
    "\n",
    "# Sklearn: Library for Train/Test Split // confusion matrix\n",
    "import sklearn\n",
    "from sklearn.model_selection import train_test_split\n",
    "from sklearn.metrics import confusion_matrix\n",
    "from sklearn.metrics import accuracy_score, precision_score, recall_score\n",
    "\n",
    "# TensorFlow: Library for model training\n",
    "import tensorflow as tf\n",
    "from tensorflow import keras\n",
    "from sklearn.preprocessing import StandardScaler\n",
    "\n",
    "# Matplotlib: Library for plotting\n",
    "import matplotlib.pyplot as plt\n",
    "plt.style.use('ggplot')\n",
    "import seaborn as sns\n",
    "\n",
    "# Functions: Library which contains all the functions that we'll use\n",
    "import functions as fn\n",
    "\n",
    "# Functions: Library which contains all the visualizations that we'll plot\n",
    "import visualizations as vz\n",
    "\n",
    "# Display plotly graphs in HTML\n",
    "import plotly.io as pio\n",
    "pio.renderers.default='notebook'\n",
    "\n",
    "from collections import Counter"
   ]
  },
  {
   "cell_type": "markdown",
   "id": "8d6d3d84",
   "metadata": {},
   "source": [
    "## Cargar datos"
   ]
  },
  {
   "cell_type": "code",
   "execution_count": 2,
   "id": "b8718fa6",
   "metadata": {},
   "outputs": [],
   "source": [
    "data= pd.read_parquet('Data_new_outliers.parquet')\n",
    "data.drop(columns=[\"\", \"fraccion4\", \"Precio_raro\", \"articulo\", \"pais_origen_destino\", \"descripcion limpia\", \"descripcion\", \n",
    "                   \"TIGIE_D\", \"unidad_medida\", \"descripcion_unidad_medida\", \"codigo_pais\", \"continente\"], inplace = True)\n",
    "\n",
    "# Guardar en una variable el nombre de nuestra variable objetivo\n",
    "target_variable ='outlier'"
   ]
  },
  {
   "cell_type": "code",
   "execution_count": 3,
   "id": "4db98bc9",
   "metadata": {},
   "outputs": [],
   "source": [
    "# Aplicar label encoder para castear texto a numérico\n",
    "data = fn.label_encoder(data)"
   ]
  },
  {
   "cell_type": "code",
   "execution_count": 4,
   "id": "5ff78a85",
   "metadata": {},
   "outputs": [
    {
     "data": {
      "text/plain": [
       "Counter({0: 887167, 1: 39122})"
      ]
     },
     "execution_count": 4,
     "metadata": {},
     "output_type": "execute_result"
    }
   ],
   "source": [
    "Counter(data[\"outlier\"])"
   ]
  },
  {
   "cell_type": "code",
   "execution_count": 5,
   "id": "bbac9467",
   "metadata": {},
   "outputs": [],
   "source": [
    "METRICS = [\n",
    "      keras.metrics.BinaryAccuracy(name='accuracy'),\n",
    "      keras.metrics.Precision(name='precision'),\n",
    "      keras.metrics.Recall(name='recall'),\n",
    "      keras.metrics.AUC(name='auc')\n",
    "]\n",
    "\n",
    "def make_model(metrics=METRICS, output_bias=None):\n",
    "    if output_bias is not None:\n",
    "        output_bias = tf.keras.initializers.Constant(output_bias)\n",
    "    model = keras.Sequential([\n",
    "        keras.layers.Dense(\n",
    "            16, activation='relu',\n",
    "            input_shape=(train_features.shape[-1],)),\n",
    "        keras.layers.Dropout(0.5),\n",
    "        keras.layers.Dense(1, activation='sigmoid',\n",
    "                         bias_initializer=output_bias),\n",
    "    ])\n",
    "\n",
    "    model.compile(\n",
    "        optimizer=keras.optimizers.Adam(learning_rate=1e-3),\n",
    "        loss=keras.losses.BinaryCrossentropy(),\n",
    "        metrics=metrics)\n",
    "\n",
    "    return model"
   ]
  },
  {
   "cell_type": "markdown",
   "id": "1b2b8033",
   "metadata": {},
   "source": [
    "# Weights"
   ]
  },
  {
   "cell_type": "code",
   "execution_count": 6,
   "id": "94e1ea8a",
   "metadata": {},
   "outputs": [],
   "source": [
    "# Use a utility from sklearn to split and shuffle your dataset.\n",
    "train_df, test_df = train_test_split(data, test_size=0.2)\n",
    "train_df, val_df = train_test_split(train_df, test_size=0.2)"
   ]
  },
  {
   "cell_type": "code",
   "execution_count": 7,
   "id": "f36410d5",
   "metadata": {},
   "outputs": [],
   "source": [
    "# Form np arrays of labels and features.\n",
    "train_labels = np.array(train_df.pop(target_variable))\n",
    "bool_train_labels = train_labels != 0\n",
    "val_labels = np.array(val_df.pop(target_variable))\n",
    "test_labels = np.array(test_df.pop(target_variable))\n",
    "\n",
    "train_features = np.array(train_df)\n",
    "val_features = np.array(val_df)\n",
    "test_features = np.array(test_df)"
   ]
  },
  {
   "cell_type": "code",
   "execution_count": 8,
   "id": "3f59ca95",
   "metadata": {},
   "outputs": [],
   "source": [
    "scaler = StandardScaler()\n",
    "\n",
    "train_features = scaler.fit_transform(train_features)\n",
    "val_features = scaler.transform(val_features)\n",
    "test_features = scaler.transform(test_features)"
   ]
  },
  {
   "cell_type": "markdown",
   "id": "e0870471",
   "metadata": {},
   "source": [
    "$$w_j = \\frac{n}{kn_j}$$\n",
    "\n",
    "$\\text{Where}$ \\\n",
    "$w_j: \\ \\text{is the weight to class j}$ \\\n",
    "$n: \\ \\text{is the number of observations}$ \\\n",
    "$n_j: \\ \\text{is the number of observations in class j, and}$ \\\n",
    "$k: \\ \\text{is the total number of classes.}$\n"
   ]
  },
  {
   "cell_type": "code",
   "execution_count": 9,
   "id": "54e4c16f",
   "metadata": {},
   "outputs": [],
   "source": [
    "unique_classes = [0, 1]"
   ]
  },
  {
   "cell_type": "code",
   "execution_count": 10,
   "id": "03984802",
   "metadata": {},
   "outputs": [],
   "source": [
    "class_weight  = {}\n",
    "for classes in unique_classes:\n",
    "    class_weight[classes] = data.shape[0]/((data.loc[data[target_variable] == classes].shape[0])*len(unique_classes))"
   ]
  },
  {
   "cell_type": "code",
   "execution_count": 11,
   "id": "9e76bef0",
   "metadata": {},
   "outputs": [
    {
     "data": {
      "text/plain": [
       "{0: 0.5220488363521186, 1: 11.838466847298195}"
      ]
     },
     "execution_count": 11,
     "metadata": {},
     "output_type": "execute_result"
    }
   ],
   "source": [
    "class_weight"
   ]
  },
  {
   "cell_type": "code",
   "execution_count": 12,
   "id": "71423ea0",
   "metadata": {},
   "outputs": [],
   "source": [
    "EPOCHS = 10\n",
    "BATCH_SIZE = 2048\n",
    "\n",
    "early_stopping = tf.keras.callbacks.EarlyStopping(\n",
    "    monitor='val_prc', \n",
    "    verbose=1,\n",
    "    patience=10,\n",
    "    mode='max',\n",
    "    restore_best_weights=True)"
   ]
  },
  {
   "cell_type": "code",
   "execution_count": 13,
   "id": "c46ea391",
   "metadata": {},
   "outputs": [],
   "source": [
    "weighted_model = make_model()"
   ]
  },
  {
   "cell_type": "code",
   "execution_count": 14,
   "id": "597444c0",
   "metadata": {},
   "outputs": [
    {
     "name": "stdout",
     "output_type": "stream",
     "text": [
      "Epoch 1/10\n",
      "271/290 [===========================>..] - ETA: 0s - loss: 0.6672 - accuracy: 0.4418 - precision: 0.0553 - recall: 0.7587 - auc: 0.6589WARNING:tensorflow:Early stopping conditioned on metric `val_prc` which is not available. Available metrics are: loss,accuracy,precision,recall,auc,val_loss,val_accuracy,val_precision,val_recall,val_auc\n",
      "290/290 [==============================] - 2s 4ms/step - loss: 0.6614 - accuracy: 0.4516 - precision: 0.0560 - recall: 0.7576 - auc: 0.6650 - val_loss: 0.5878 - val_accuracy: 0.7273 - val_precision: 0.1066 - val_recall: 0.7360 - val_auc: 0.8150\n",
      "Epoch 2/10\n",
      "288/290 [============================>.] - ETA: 0s - loss: 0.5517 - accuracy: 0.6712 - precision: 0.0885 - recall: 0.7309 - auc: 0.7867WARNING:tensorflow:Early stopping conditioned on metric `val_prc` which is not available. Available metrics are: loss,accuracy,precision,recall,auc,val_loss,val_accuracy,val_precision,val_recall,val_auc\n",
      "290/290 [==============================] - 1s 3ms/step - loss: 0.5513 - accuracy: 0.6715 - precision: 0.0885 - recall: 0.7310 - auc: 0.7869 - val_loss: 0.4957 - val_accuracy: 0.8267 - val_precision: 0.1625 - val_recall: 0.7427 - val_auc: 0.8759\n",
      "Epoch 3/10\n",
      "272/290 [===========================>..] - ETA: 0s - loss: 0.4895 - accuracy: 0.7685 - precision: 0.1253 - recall: 0.7541 - auc: 0.8463WARNING:tensorflow:Early stopping conditioned on metric `val_prc` which is not available. Available metrics are: loss,accuracy,precision,recall,auc,val_loss,val_accuracy,val_precision,val_recall,val_auc\n",
      "290/290 [==============================] - 1s 3ms/step - loss: 0.4892 - accuracy: 0.7697 - precision: 0.1263 - recall: 0.7547 - auc: 0.8471 - val_loss: 0.4469 - val_accuracy: 0.8617 - val_precision: 0.2009 - val_recall: 0.7597 - val_auc: 0.9023\n",
      "Epoch 4/10\n",
      "279/290 [===========================>..] - ETA: 0s - loss: 0.4573 - accuracy: 0.8098 - precision: 0.1522 - recall: 0.7690 - auc: 0.8741WARNING:tensorflow:Early stopping conditioned on metric `val_prc` which is not available. Available metrics are: loss,accuracy,precision,recall,auc,val_loss,val_accuracy,val_precision,val_recall,val_auc\n",
      "290/290 [==============================] - 1s 3ms/step - loss: 0.4563 - accuracy: 0.8101 - precision: 0.1526 - recall: 0.7704 - auc: 0.8748 - val_loss: 0.4231 - val_accuracy: 0.8691 - val_precision: 0.2136 - val_recall: 0.7785 - val_auc: 0.9132\n",
      "Epoch 5/10\n",
      "283/290 [============================>.] - ETA: 0s - loss: 0.4346 - accuracy: 0.8306 - precision: 0.1711 - recall: 0.7885 - auc: 0.8915WARNING:tensorflow:Early stopping conditioned on metric `val_prc` which is not available. Available metrics are: loss,accuracy,precision,recall,auc,val_loss,val_accuracy,val_precision,val_recall,val_auc\n",
      "290/290 [==============================] - 1s 3ms/step - loss: 0.4348 - accuracy: 0.8309 - precision: 0.1717 - recall: 0.7887 - auc: 0.8917 - val_loss: 0.4004 - val_accuracy: 0.8756 - val_precision: 0.2254 - val_recall: 0.7936 - val_auc: 0.9199\n",
      "Epoch 6/10\n",
      "281/290 [============================>.] - ETA: 0s - loss: 0.4172 - accuracy: 0.8410 - precision: 0.1832 - recall: 0.8022 - auc: 0.9010WARNING:tensorflow:Early stopping conditioned on metric `val_prc` which is not available. Available metrics are: loss,accuracy,precision,recall,auc,val_loss,val_accuracy,val_precision,val_recall,val_auc\n",
      "290/290 [==============================] - 1s 3ms/step - loss: 0.4169 - accuracy: 0.8413 - precision: 0.1835 - recall: 0.8025 - auc: 0.9011 - val_loss: 0.3789 - val_accuracy: 0.8764 - val_precision: 0.2276 - val_recall: 0.8005 - val_auc: 0.9234\n",
      "Epoch 7/10\n",
      "283/290 [============================>.] - ETA: 0s - loss: 0.4076 - accuracy: 0.8444 - precision: 0.1882 - recall: 0.8144 - auc: 0.9061WARNING:tensorflow:Early stopping conditioned on metric `val_prc` which is not available. Available metrics are: loss,accuracy,precision,recall,auc,val_loss,val_accuracy,val_precision,val_recall,val_auc\n",
      "290/290 [==============================] - 1s 3ms/step - loss: 0.4072 - accuracy: 0.8442 - precision: 0.1883 - recall: 0.8151 - auc: 0.9064 - val_loss: 0.3670 - val_accuracy: 0.8719 - val_precision: 0.2232 - val_recall: 0.8143 - val_auc: 0.9252\n",
      "Epoch 8/10\n",
      "289/290 [============================>.] - ETA: 0s - loss: 0.4008 - accuracy: 0.8402 - precision: 0.1862 - recall: 0.8290 - auc: 0.9094WARNING:tensorflow:Early stopping conditioned on metric `val_prc` which is not available. Available metrics are: loss,accuracy,precision,recall,auc,val_loss,val_accuracy,val_precision,val_recall,val_auc\n",
      "290/290 [==============================] - 1s 3ms/step - loss: 0.4007 - accuracy: 0.8402 - precision: 0.1862 - recall: 0.8289 - auc: 0.9094 - val_loss: 0.3468 - val_accuracy: 0.8741 - val_precision: 0.2266 - val_recall: 0.8156 - val_auc: 0.9270\n",
      "Epoch 9/10\n",
      "266/290 [==========================>...] - ETA: 0s - loss: 0.3925 - accuracy: 0.8393 - precision: 0.1862 - recall: 0.8359 - auc: 0.9122WARNING:tensorflow:Early stopping conditioned on metric `val_prc` which is not available. Available metrics are: loss,accuracy,precision,recall,auc,val_loss,val_accuracy,val_precision,val_recall,val_auc\n",
      "290/290 [==============================] - 1s 3ms/step - loss: 0.3919 - accuracy: 0.8394 - precision: 0.1866 - recall: 0.8371 - auc: 0.9126 - val_loss: 0.3473 - val_accuracy: 0.8671 - val_precision: 0.2197 - val_recall: 0.8366 - val_auc: 0.9283\n",
      "Epoch 10/10\n",
      "277/290 [===========================>..] - ETA: 0s - loss: 0.3864 - accuracy: 0.8355 - precision: 0.1841 - recall: 0.8484 - auc: 0.9142WARNING:tensorflow:Early stopping conditioned on metric `val_prc` which is not available. Available metrics are: loss,accuracy,precision,recall,auc,val_loss,val_accuracy,val_precision,val_recall,val_auc\n",
      "290/290 [==============================] - 1s 3ms/step - loss: 0.3867 - accuracy: 0.8352 - precision: 0.1840 - recall: 0.8482 - auc: 0.9141 - val_loss: 0.3489 - val_accuracy: 0.8567 - val_precision: 0.2083 - val_recall: 0.8492 - val_auc: 0.9292\n"
     ]
    }
   ],
   "source": [
    "weighted_history = weighted_model.fit(\n",
    "    train_features,\n",
    "    train_labels,\n",
    "    batch_size=BATCH_SIZE,\n",
    "    epochs=EPOCHS,\n",
    "    callbacks=[early_stopping],\n",
    "    validation_data=(val_features, val_labels),\n",
    "    # The class weights go here\n",
    "    class_weight=class_weight)"
   ]
  },
  {
   "cell_type": "code",
   "execution_count": 15,
   "id": "cb1b0224",
   "metadata": {},
   "outputs": [
    {
     "data": {
      "image/png": "[encoded data removed]",
      "text/plain": [
       "<Figure size 640x480 with 4 Axes>"
      ]
     },
     "metadata": {},
     "output_type": "display_data"
    }
   ],
   "source": [
    "vz.plot_wmetrics(weighted_history)"
   ]
  },
  {
   "cell_type": "code",
   "execution_count": 16,
   "id": "8a616109",
   "metadata": {},
   "outputs": [
    {
     "name": "stdout",
     "output_type": "stream",
     "text": [
      "91/91 [==============================] - 0s 1ms/step\n"
     ]
    }
   ],
   "source": [
    "test_predictions_weighted = weighted_model.predict(test_features, batch_size=BATCH_SIZE)"
   ]
  },
  {
   "cell_type": "code",
   "execution_count": 17,
   "id": "80daa8f1",
   "metadata": {},
   "outputs": [],
   "source": [
    "def plot_cm(labels, predictions, p=0.5):\n",
    "    \n",
    "    cm = confusion_matrix(labels, predictions > p)\n",
    "    plt.figure(figsize=(9, 7))\n",
    "    sns.heatmap(cm, annot=True, fmt=\"d\")\n",
    "    plt.title('Confusion matrix @{:.2f}'.format(p))\n",
    "    plt.ylabel('Actual label')\n",
    "    plt.xlabel('Predicted label')\n",
    "\n",
    "    print('Legitimate No-Outliers Detected (True Negatives): ', cm[0][0])\n",
    "    print('Legitimate No-Outliers Incorrectly Detected (False Positives): ', cm[0][1])\n",
    "    print('Fraudulent Outliers Missed (False Negatives): ', cm[1][0])\n",
    "    print('Fraudulent Outliers Detected (True Positives): ', cm[1][1])\n",
    "    print('Total Outliers: ', np.sum(cm[1]))\n",
    "    print('Total No-Outliers: ', np.sum(cm[0]))"
   ]
  },
  {
   "cell_type": "code",
   "execution_count": 18,
   "id": "48d131b4",
   "metadata": {},
   "outputs": [
    {
     "name": "stdout",
     "output_type": "stream",
     "text": [
      "Legitimate No-Outliers Detected (True Negatives):  152075\n",
      "Legitimate No-Outliers Incorrectly Detected (False Positives):  25313\n",
      "Fraudulent Outliers Missed (False Negatives):  1168\n",
      "Fraudulent Outliers Detected (True Positives):  6702\n",
      "Total Outliers:  7870\n",
      "Total No-Outliers:  177388\n"
     ]
    },
    {
     "data": {
      "image/png": "[encoded data removed]",
      "text/plain": [
       "<Figure size 900x700 with 2 Axes>"
      ]
     },
     "metadata": {},
     "output_type": "display_data"
    }
   ],
   "source": [
    "plot_cm(test_labels, test_predictions_weighted)"
   ]
  },
  {
   "cell_type": "code",
   "execution_count": 19,
   "id": "60c69c3d",
   "metadata": {},
   "outputs": [
    {
     "name": "stdout",
     "output_type": "stream",
     "text": [
      "loss :  0.35\n",
      "accuracy :  0.86\n",
      "precision :  0.21\n",
      "recall :  0.85\n",
      "auc :  0.93\n",
      "f1 :  0.34\n"
     ]
    }
   ],
   "source": [
    "weighted_results = weighted_model.evaluate(test_features, test_labels,\n",
    "                                           batch_size=BATCH_SIZE, verbose=0)\n",
    "for name, value in zip(weighted_model.metrics_names, weighted_results):\n",
    "  print(name, ': ', np.round(value, 2))\n",
    "\n",
    "f1 = (2*weighted_results[2]*weighted_results[3])/(weighted_results[2]+weighted_results[3])\n",
    "print(\"f1 : \", np.round(f1, 2))"
   ]
  },
  {
   "cell_type": "markdown",
   "id": "31f7f587",
   "metadata": {},
   "source": [
    "# Decile Analysis"
   ]
  },
  {
   "cell_type": "code",
   "execution_count": 20,
   "id": "2a0d8920",
   "metadata": {},
   "outputs": [
    {
     "data": {
      "text/html": [
       "<div>\n",
       "<style scoped>\n",
       "    .dataframe tbody tr th:only-of-type {\n",
       "        vertical-align: middle;\n",
       "    }\n",
       "\n",
       "    .dataframe tbody tr th {\n",
       "        vertical-align: top;\n",
       "    }\n",
       "\n",
       "    .dataframe thead th {\n",
       "        text-align: right;\n",
       "    }\n",
       "</style>\n",
       "<table border=\"1\" class=\"dataframe\">\n",
       "  <thead>\n",
       "    <tr style=\"text-align: right;\">\n",
       "      <th></th>\n",
       "      <th>Batch</th>\n",
       "      <th>Cumulative Batch</th>\n",
       "      <th>Cumulative % Batch</th>\n",
       "      <th>True label</th>\n",
       "      <th>True label %</th>\n",
       "      <th>Cumulative label %</th>\n",
       "      <th>Probability Range</th>\n",
       "    </tr>\n",
       "    <tr>\n",
       "      <th>Decile</th>\n",
       "      <th></th>\n",
       "      <th></th>\n",
       "      <th></th>\n",
       "      <th></th>\n",
       "      <th></th>\n",
       "      <th></th>\n",
       "      <th></th>\n",
       "    </tr>\n",
       "  </thead>\n",
       "  <tbody>\n",
       "    <tr>\n",
       "      <th>1</th>\n",
       "      <td>18526</td>\n",
       "      <td>18526</td>\n",
       "      <td>0.1</td>\n",
       "      <td>5598</td>\n",
       "      <td>0.7113</td>\n",
       "      <td>0.7113</td>\n",
       "      <td>1.0 - 0.6666</td>\n",
       "    </tr>\n",
       "    <tr>\n",
       "      <th>2</th>\n",
       "      <td>18526</td>\n",
       "      <td>37052</td>\n",
       "      <td>0.2</td>\n",
       "      <td>1303</td>\n",
       "      <td>0.1656</td>\n",
       "      <td>0.8769</td>\n",
       "      <td>0.6666 - 0.4451</td>\n",
       "    </tr>\n",
       "    <tr>\n",
       "      <th>3</th>\n",
       "      <td>18526</td>\n",
       "      <td>55578</td>\n",
       "      <td>0.3</td>\n",
       "      <td>520</td>\n",
       "      <td>0.0661</td>\n",
       "      <td>0.9429</td>\n",
       "      <td>0.4451 - 0.3006</td>\n",
       "    </tr>\n",
       "    <tr>\n",
       "      <th>4</th>\n",
       "      <td>18526</td>\n",
       "      <td>74104</td>\n",
       "      <td>0.4</td>\n",
       "      <td>204</td>\n",
       "      <td>0.0259</td>\n",
       "      <td>0.9689</td>\n",
       "      <td>0.3006 - 0.2106</td>\n",
       "    </tr>\n",
       "    <tr>\n",
       "      <th>5</th>\n",
       "      <td>18526</td>\n",
       "      <td>92630</td>\n",
       "      <td>0.5</td>\n",
       "      <td>112</td>\n",
       "      <td>0.0142</td>\n",
       "      <td>0.9831</td>\n",
       "      <td>0.2106 - 0.1491</td>\n",
       "    </tr>\n",
       "    <tr>\n",
       "      <th>6</th>\n",
       "      <td>18526</td>\n",
       "      <td>111156</td>\n",
       "      <td>0.6</td>\n",
       "      <td>47</td>\n",
       "      <td>0.0060</td>\n",
       "      <td>0.9891</td>\n",
       "      <td>0.1491 - 0.1065</td>\n",
       "    </tr>\n",
       "    <tr>\n",
       "      <th>7</th>\n",
       "      <td>18526</td>\n",
       "      <td>129682</td>\n",
       "      <td>0.7</td>\n",
       "      <td>37</td>\n",
       "      <td>0.0047</td>\n",
       "      <td>0.9938</td>\n",
       "      <td>0.1065 - 0.0782</td>\n",
       "    </tr>\n",
       "    <tr>\n",
       "      <th>8</th>\n",
       "      <td>18526</td>\n",
       "      <td>148208</td>\n",
       "      <td>0.8</td>\n",
       "      <td>11</td>\n",
       "      <td>0.0014</td>\n",
       "      <td>0.9952</td>\n",
       "      <td>0.0782 - 0.0583</td>\n",
       "    </tr>\n",
       "    <tr>\n",
       "      <th>9</th>\n",
       "      <td>18525</td>\n",
       "      <td>166733</td>\n",
       "      <td>0.9</td>\n",
       "      <td>9</td>\n",
       "      <td>0.0011</td>\n",
       "      <td>0.9963</td>\n",
       "      <td>0.0583 - 0.0375</td>\n",
       "    </tr>\n",
       "    <tr>\n",
       "      <th>10</th>\n",
       "      <td>18525</td>\n",
       "      <td>185258</td>\n",
       "      <td>1.0</td>\n",
       "      <td>29</td>\n",
       "      <td>0.0037</td>\n",
       "      <td>1.0000</td>\n",
       "      <td>0.0375 - 0.0</td>\n",
       "    </tr>\n",
       "  </tbody>\n",
       "</table>\n",
       "</div>"
      ],
      "text/plain": [
       "        Batch  Cumulative Batch  Cumulative % Batch  True label  True label %  \\\n",
       "Decile                                                                          \n",
       "1       18526             18526                 0.1        5598        0.7113   \n",
       "2       18526             37052                 0.2        1303        0.1656   \n",
       "3       18526             55578                 0.3         520        0.0661   \n",
       "4       18526             74104                 0.4         204        0.0259   \n",
       "5       18526             92630                 0.5         112        0.0142   \n",
       "6       18526            111156                 0.6          47        0.0060   \n",
       "7       18526            129682                 0.7          37        0.0047   \n",
       "8       18526            148208                 0.8          11        0.0014   \n",
       "9       18525            166733                 0.9           9        0.0011   \n",
       "10      18525            185258                 1.0          29        0.0037   \n",
       "\n",
       "        Cumulative label % Probability Range  \n",
       "Decile                                        \n",
       "1                   0.7113      1.0 - 0.6666  \n",
       "2                   0.8769   0.6666 - 0.4451  \n",
       "3                   0.9429   0.4451 - 0.3006  \n",
       "4                   0.9689   0.3006 - 0.2106  \n",
       "5                   0.9831   0.2106 - 0.1491  \n",
       "6                   0.9891   0.1491 - 0.1065  \n",
       "7                   0.9938   0.1065 - 0.0782  \n",
       "8                   0.9952   0.0782 - 0.0583  \n",
       "9                   0.9963   0.0583 - 0.0375  \n",
       "10                  1.0000      0.0375 - 0.0  "
      ]
     },
     "execution_count": 20,
     "metadata": {},
     "output_type": "execute_result"
    }
   ],
   "source": [
    "decile_analysis = fn.decile_analysis(test_predictions_weighted, test_labels)\n",
    "decile_analysis"
   ]
  },
  {
   "cell_type": "code",
   "execution_count": 21,
   "id": "b9d414e6",
   "metadata": {},
   "outputs": [
    {
     "data": {
      "image/png": "[encoded data removed]",
      "text/plain": [
       "<Figure size 700x400 with 1 Axes>"
      ]
     },
     "metadata": {},
     "output_type": "display_data"
    }
   ],
   "source": [
    "vz.decile_analysis_plot(decile_analysis[\"True label %\"])"
   ]
  },
  {
   "cell_type": "code",
   "execution_count": null,
   "id": "07ef18fb",
   "metadata": {},
   "outputs": [],
   "source": []
  },
  {
   "cell_type": "code",
   "execution_count": null,
   "id": "358b60d3",
   "metadata": {},
   "outputs": [],
   "source": []
  }
 ],
 "metadata": {
  "kernelspec": {
   "display_name": "Python 3 (ipykernel)",
   "language": "python",
   "name": "python3"
  },
  "language_info": {
   "codemirror_mode": {
    "name": "ipython",
    "version": 3
   },
   "file_extension": ".py",
   "mimetype": "text/x-python",
   "name": "python",
   "nbconvert_exporter": "python",
   "pygments_lexer": "ipython3",
   "version": "3.10.5"
  },
  "vscode": {
   "interpreter": {
    "hash": "15712d08c1e5e950e319696aa80ec4374728ea00c43cf824f11c166318310e0e"
   }
  }
 },
 "nbformat": 4,
 "nbformat_minor": 5
}
