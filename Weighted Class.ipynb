{
 "cells": [
  {
   "cell_type": "markdown",
   "id": "6fc589c4",
   "metadata": {},
   "source": [
    "## Librerías"
   ]
  },
  {
   "cell_type": "code",
   "execution_count": 1,
   "id": "1bfe7a86",
   "metadata": {},
   "outputs": [],
   "source": [
    "# Libraries which will help us to manipulate a lil bit more our data\n",
    "import numpy as np\n",
    "import pandas as pd\n",
    "\n",
    "# pandas: display all columns\n",
    "pd.set_option('display.max_columns', None)\n",
    "\n",
    "# Sklearn: Library for Train/Test Split // confusion matrix\n",
    "import sklearn\n",
    "from sklearn.model_selection import train_test_split\n",
    "from sklearn.metrics import confusion_matrix\n",
    "from sklearn.metrics import accuracy_score, precision_score, recall_score\n",
    "\n",
    "# TensorFlow: Library for model training\n",
    "import tensorflow as tf\n",
    "from tensorflow import keras\n",
    "from sklearn.preprocessing import StandardScaler\n",
    "\n",
    "# Matplotlib: Library for plotting\n",
    "import matplotlib.pyplot as plt\n",
    "plt.style.use('ggplot')\n",
    "import seaborn as sns\n",
    "\n",
    "# Functions: Library which contains all the functions that we'll use\n",
    "import functions as fn\n",
    "\n",
    "# Functions: Library which contains all the visualizations that we'll plot\n",
    "import visualizations as vz\n",
    "\n",
    "# Display plotly graphs in HTML\n",
    "import plotly.io as pio\n",
    "pio.renderers.default='notebook'\n",
    "\n",
    "from collections import Counter\n",
    "\n",
    "from CDIN import CDIN as eda"
   ]
  },
  {
   "cell_type": "markdown",
   "id": "8d6d3d84",
   "metadata": {},
   "source": [
    "## Cargar datos"
   ]
  },
  {
   "cell_type": "code",
   "execution_count": 2,
   "id": "b8718fa6",
   "metadata": {},
   "outputs": [],
   "source": [
    "data= pd.read_parquet('Data_new_outliers.parquet')\n",
    "data.drop(columns=[\"\", \"fraccion4\", \"Precio_raro\", \"articulo\", \"pais_origen_destino\", \"descripcion limpia\", \"descripcion\", \n",
    "                   \"TIGIE_D\", \"unidad_medida\", \"descripcion_unidad_medida\", \"codigo_pais\", \"continente\"], inplace = True)\n",
    "\n",
    "# Guardar en una variable el nombre de nuestra variable objetivo\n",
    "target_variable ='outlier'"
   ]
  },
  {
   "cell_type": "code",
   "execution_count": 3,
   "id": "4db98bc9",
   "metadata": {},
   "outputs": [],
   "source": [
    "# Aplicar label encoder para castear texto a numérico\n",
    "data = fn.label_encoder(data)"
   ]
  },
  {
   "cell_type": "code",
   "execution_count": 4,
   "id": "5ff78a85",
   "metadata": {},
   "outputs": [
    {
     "data": {
      "text/plain": [
       "Counter({0: 887167, 1: 39122})"
      ]
     },
     "execution_count": 4,
     "metadata": {},
     "output_type": "execute_result"
    }
   ],
   "source": [
    "Counter(data[\"outlier\"])"
   ]
  },
  {
   "cell_type": "code",
   "execution_count": 5,
   "id": "bbac9467",
   "metadata": {},
   "outputs": [],
   "source": [
    "METRICS = [\n",
    "      keras.metrics.BinaryAccuracy(name='accuracy'),\n",
    "      keras.metrics.Precision(name='precision'),\n",
    "      keras.metrics.Recall(name='recall'),\n",
    "      keras.metrics.AUC(name='auc')\n",
    "]\n",
    "\n",
    "def make_model(metrics=METRICS, output_bias=None):\n",
    "    if output_bias is not None:\n",
    "        output_bias = tf.keras.initializers.Constant(output_bias)\n",
    "    model = keras.Sequential([\n",
    "        keras.layers.Dense(\n",
    "            16, activation='relu',\n",
    "            input_shape=(train_features.shape[-1],)),\n",
    "        keras.layers.Dropout(0.5),\n",
    "        keras.layers.Dense(1, activation='sigmoid',\n",
    "                         bias_initializer=output_bias),\n",
    "    ])\n",
    "\n",
    "    model.compile(\n",
    "        optimizer=keras.optimizers.Adam(learning_rate=1e-3),\n",
    "        loss=keras.losses.BinaryCrossentropy(),\n",
    "        metrics=metrics)\n",
    "\n",
    "    return model"
   ]
  },
  {
   "cell_type": "markdown",
   "id": "1b2b8033",
   "metadata": {},
   "source": [
    "# Weights"
   ]
  },
  {
   "cell_type": "code",
   "execution_count": 6,
   "id": "94e1ea8a",
   "metadata": {},
   "outputs": [],
   "source": [
    "# Use a utility from sklearn to split and shuffle your dataset.\n",
    "train_df, test_df = train_test_split(data, test_size=0.2)\n",
    "train_df, val_df = train_test_split(train_df, test_size=0.2)"
   ]
  },
  {
   "cell_type": "code",
   "execution_count": 7,
   "id": "f36410d5",
   "metadata": {},
   "outputs": [],
   "source": [
    "# Form np arrays of labels and features.\n",
    "train_labels = np.array(train_df.pop(target_variable))\n",
    "bool_train_labels = train_labels != 0\n",
    "val_labels = np.array(val_df.pop(target_variable))\n",
    "test_labels = np.array(test_df.pop(target_variable))\n",
    "\n",
    "train_features = np.array(train_df)\n",
    "val_features = np.array(val_df)\n",
    "test_features = np.array(test_df)"
   ]
  },
  {
   "cell_type": "code",
   "execution_count": 8,
   "id": "3f59ca95",
   "metadata": {},
   "outputs": [],
   "source": [
    "scaler = StandardScaler()\n",
    "\n",
    "train_features = scaler.fit_transform(train_features)\n",
    "val_features = scaler.transform(val_features)\n",
    "test_features = scaler.transform(test_features)"
   ]
  },
  {
   "cell_type": "markdown",
   "id": "e0870471",
   "metadata": {},
   "source": [
    "$$w_j = \\frac{n}{kn_j}$$\n",
    "\n",
    "$\\text{Where}$ \\\n",
    "$w_j: \\ \\text{is the weight to class j}$ \\\n",
    "$n: \\ \\text{is the number of observations}$ \\\n",
    "$n_j: \\ \\text{is the number of observations in class j, and}$ \\\n",
    "$k: \\ \\text{is the total number of classes.}$\n"
   ]
  },
  {
   "cell_type": "code",
   "execution_count": 9,
   "id": "54e4c16f",
   "metadata": {},
   "outputs": [],
   "source": [
    "unique_classes = [0, 1]"
   ]
  },
  {
   "cell_type": "code",
   "execution_count": 10,
   "id": "03984802",
   "metadata": {},
   "outputs": [],
   "source": [
    "class_weight  = {}\n",
    "for classes in unique_classes:\n",
    "    class_weight[classes] = data.shape[0]/((data.loc[data[target_variable] == classes].shape[0])*len(unique_classes))"
   ]
  },
  {
   "cell_type": "code",
   "execution_count": 11,
   "id": "9e76bef0",
   "metadata": {},
   "outputs": [
    {
     "data": {
      "text/plain": [
       "{0: 0.5220488363521186, 1: 11.838466847298195}"
      ]
     },
     "execution_count": 11,
     "metadata": {},
     "output_type": "execute_result"
    }
   ],
   "source": [
    "class_weight"
   ]
  },
  {
   "cell_type": "code",
   "execution_count": 12,
   "id": "71423ea0",
   "metadata": {},
   "outputs": [],
   "source": [
    "EPOCHS = 10\n",
    "BATCH_SIZE = 2048\n",
    "\n",
    "early_stopping = tf.keras.callbacks.EarlyStopping(\n",
    "    monitor='val_prc', \n",
    "    verbose=1,\n",
    "    patience=10,\n",
    "    mode='max',\n",
    "    restore_best_weights=True)"
   ]
  },
  {
   "cell_type": "code",
   "execution_count": 13,
   "id": "c46ea391",
   "metadata": {},
   "outputs": [],
   "source": [
    "weighted_model = make_model()"
   ]
  },
  {
   "cell_type": "code",
   "execution_count": 14,
   "id": "597444c0",
   "metadata": {},
   "outputs": [
    {
     "name": "stdout",
     "output_type": "stream",
     "text": [
      "Epoch 1/10\n",
      "274/290 [===========================>..] - ETA: 0s - loss: 0.6494 - accuracy: 0.7787 - precision: 0.0911 - recall: 0.4693 - auc: 0.6718WARNING:tensorflow:Early stopping conditioned on metric `val_prc` which is not available. Available metrics are: loss,accuracy,precision,recall,auc,val_loss,val_accuracy,val_precision,val_recall,val_auc\n",
      "290/290 [==============================] - 2s 4ms/step - loss: 0.6453 - accuracy: 0.7795 - precision: 0.0917 - recall: 0.4730 - auc: 0.6755 - val_loss: 0.5185 - val_accuracy: 0.8370 - val_precision: 0.1501 - val_recall: 0.6212 - val_auc: 0.8210\n",
      "Epoch 2/10\n",
      "290/290 [==============================] - ETA: 0s - loss: 0.5429 - accuracy: 0.8190 - precision: 0.1355 - recall: 0.6093 - auc: 0.7987WARNING:tensorflow:Early stopping conditioned on metric `val_prc` which is not available. Available metrics are: loss,accuracy,precision,recall,auc,val_loss,val_accuracy,val_precision,val_recall,val_auc\n",
      "290/290 [==============================] - 1s 3ms/step - loss: 0.5429 - accuracy: 0.8190 - precision: 0.1355 - recall: 0.6093 - auc: 0.7987 - val_loss: 0.4689 - val_accuracy: 0.8660 - val_precision: 0.1913 - val_recall: 0.6823 - val_auc: 0.8715\n",
      "Epoch 3/10\n",
      "290/290 [==============================] - ETA: 0s - loss: 0.4923 - accuracy: 0.8519 - precision: 0.1750 - recall: 0.6728 - auc: 0.8531WARNING:tensorflow:Early stopping conditioned on metric `val_prc` which is not available. Available metrics are: loss,accuracy,precision,recall,auc,val_loss,val_accuracy,val_precision,val_recall,val_auc\n",
      "290/290 [==============================] - 1s 3ms/step - loss: 0.4923 - accuracy: 0.8519 - precision: 0.1750 - recall: 0.6728 - auc: 0.8531 - val_loss: 0.4386 - val_accuracy: 0.8821 - val_precision: 0.2221 - val_recall: 0.7266 - val_auc: 0.9010\n",
      "Epoch 4/10\n",
      "278/290 [===========================>..] - ETA: 0s - loss: 0.4607 - accuracy: 0.8653 - precision: 0.1978 - recall: 0.7151 - auc: 0.8803WARNING:tensorflow:Early stopping conditioned on metric `val_prc` which is not available. Available metrics are: loss,accuracy,precision,recall,auc,val_loss,val_accuracy,val_precision,val_recall,val_auc\n",
      "290/290 [==============================] - 1s 3ms/step - loss: 0.4602 - accuracy: 0.8657 - precision: 0.1985 - recall: 0.7158 - auc: 0.8807 - val_loss: 0.4175 - val_accuracy: 0.8891 - val_precision: 0.2391 - val_recall: 0.7558 - val_auc: 0.9148\n",
      "Epoch 5/10\n",
      "276/290 [===========================>..] - ETA: 0s - loss: 0.4411 - accuracy: 0.8708 - precision: 0.2101 - recall: 0.7470 - auc: 0.8946WARNING:tensorflow:Early stopping conditioned on metric `val_prc` which is not available. Available metrics are: loss,accuracy,precision,recall,auc,val_loss,val_accuracy,val_precision,val_recall,val_auc\n",
      "290/290 [==============================] - 1s 3ms/step - loss: 0.4417 - accuracy: 0.8708 - precision: 0.2105 - recall: 0.7465 - auc: 0.8944 - val_loss: 0.4082 - val_accuracy: 0.8819 - val_precision: 0.2304 - val_recall: 0.7782 - val_auc: 0.9191\n",
      "Epoch 6/10\n",
      "272/290 [===========================>..] - ETA: 0s - loss: 0.4299 - accuracy: 0.8667 - precision: 0.2081 - recall: 0.7658 - auc: 0.9008WARNING:tensorflow:Early stopping conditioned on metric `val_prc` which is not available. Available metrics are: loss,accuracy,precision,recall,auc,val_loss,val_accuracy,val_precision,val_recall,val_auc\n",
      "290/290 [==============================] - 1s 3ms/step - loss: 0.4299 - accuracy: 0.8668 - precision: 0.2081 - recall: 0.7654 - auc: 0.9007 - val_loss: 0.3948 - val_accuracy: 0.8851 - val_precision: 0.2376 - val_recall: 0.7901 - val_auc: 0.9241\n",
      "Epoch 7/10\n",
      "273/290 [===========================>..] - ETA: 0s - loss: 0.4219 - accuracy: 0.8627 - precision: 0.2053 - recall: 0.7819 - auc: 0.9041WARNING:tensorflow:Early stopping conditioned on metric `val_prc` which is not available. Available metrics are: loss,accuracy,precision,recall,auc,val_loss,val_accuracy,val_precision,val_recall,val_auc\n",
      "290/290 [==============================] - 1s 3ms/step - loss: 0.4213 - accuracy: 0.8628 - precision: 0.2056 - recall: 0.7825 - auc: 0.9045 - val_loss: 0.3766 - val_accuracy: 0.8825 - val_precision: 0.2353 - val_recall: 0.8030 - val_auc: 0.9245\n",
      "Epoch 8/10\n",
      "290/290 [==============================] - ETA: 0s - loss: 0.4123 - accuracy: 0.8583 - precision: 0.2028 - recall: 0.8009 - auc: 0.9077WARNING:tensorflow:Early stopping conditioned on metric `val_prc` which is not available. Available metrics are: loss,accuracy,precision,recall,auc,val_loss,val_accuracy,val_precision,val_recall,val_auc\n",
      "290/290 [==============================] - 1s 3ms/step - loss: 0.4123 - accuracy: 0.8583 - precision: 0.2028 - recall: 0.8009 - auc: 0.9077 - val_loss: 0.3656 - val_accuracy: 0.8769 - val_precision: 0.2282 - val_recall: 0.8148 - val_auc: 0.9257\n",
      "Epoch 9/10\n",
      "286/290 [============================>.] - ETA: 0s - loss: 0.4072 - accuracy: 0.8496 - precision: 0.1943 - recall: 0.8142 - auc: 0.9088WARNING:tensorflow:Early stopping conditioned on metric `val_prc` which is not available. Available metrics are: loss,accuracy,precision,recall,auc,val_loss,val_accuracy,val_precision,val_recall,val_auc\n",
      "290/290 [==============================] - 1s 3ms/step - loss: 0.4078 - accuracy: 0.8496 - precision: 0.1946 - recall: 0.8140 - auc: 0.9087 - val_loss: 0.3627 - val_accuracy: 0.8720 - val_precision: 0.2231 - val_recall: 0.8291 - val_auc: 0.9275\n",
      "Epoch 10/10\n",
      "272/290 [===========================>..] - ETA: 0s - loss: 0.4016 - accuracy: 0.8436 - precision: 0.1898 - recall: 0.8258 - auc: 0.9108WARNING:tensorflow:Early stopping conditioned on metric `val_prc` which is not available. Available metrics are: loss,accuracy,precision,recall,auc,val_loss,val_accuracy,val_precision,val_recall,val_auc\n",
      "290/290 [==============================] - 1s 3ms/step - loss: 0.4021 - accuracy: 0.8437 - precision: 0.1900 - recall: 0.8252 - auc: 0.9105 - val_loss: 0.3550 - val_accuracy: 0.8697 - val_precision: 0.2207 - val_recall: 0.8351 - val_auc: 0.9287\n"
     ]
    }
   ],
   "source": [
    "weighted_history = weighted_model.fit(\n",
    "    train_features,\n",
    "    train_labels,\n",
    "    batch_size=BATCH_SIZE,\n",
    "    epochs=EPOCHS,\n",
    "    callbacks=[early_stopping],\n",
    "    validation_data=(val_features, val_labels),\n",
    "    # The class weights go here\n",
    "    class_weight=class_weight)"
   ]
  },
  {
   "cell_type": "code",
   "execution_count": 15,
   "id": "cb1b0224",
   "metadata": {},
   "outputs": [
    {
     "data": {
      "image/png": "[encoded data removed]",
      "text/plain": [
       "<Figure size 640x480 with 4 Axes>"
      ]
     },
     "metadata": {},
     "output_type": "display_data"
    }
   ],
   "source": [
    "vz.plot_wmetrics(weighted_history)"
   ]
  },
  {
   "cell_type": "code",
   "execution_count": 16,
   "id": "8a616109",
   "metadata": {},
   "outputs": [
    {
     "name": "stdout",
     "output_type": "stream",
     "text": [
      "91/91 [==============================] - 0s 981us/step\n"
     ]
    }
   ],
   "source": [
    "test_predictions_weighted = weighted_model.predict(test_features, batch_size=BATCH_SIZE)"
   ]
  },
  {
   "cell_type": "code",
   "execution_count": 17,
   "id": "80daa8f1",
   "metadata": {},
   "outputs": [],
   "source": [
    "def plot_cm(labels, predictions, p=0.5):\n",
    "    \n",
    "    cm = confusion_matrix(labels, predictions > p)\n",
    "    plt.figure(figsize=(9, 7))\n",
    "    sns.heatmap(cm, annot=True, fmt=\"d\")\n",
    "    plt.title('Confusion matrix @{:.2f}'.format(p))\n",
    "    plt.ylabel('Actual label')\n",
    "    plt.xlabel('Predicted label')\n",
    "\n",
    "    print('Legitimate No-Outliers Detected (True Negatives): ', cm[0][0])\n",
    "    print('Legitimate No-Outliers Incorrectly Detected (False Positives): ', cm[0][1])\n",
    "    print('Fraudulent Outliers Missed (False Negatives): ', cm[1][0])\n",
    "    print('Fraudulent Outliers Detected (True Positives): ', cm[1][1])\n",
    "    print('Total Outliers: ', np.sum(cm[1]))\n",
    "    print('Total No-Outliers: ', np.sum(cm[0]))"
   ]
  },
  {
   "cell_type": "code",
   "execution_count": 18,
   "id": "48d131b4",
   "metadata": {},
   "outputs": [
    {
     "name": "stdout",
     "output_type": "stream",
     "text": [
      "Legitimate No-Outliers Detected (True Negatives):  154370\n",
      "Legitimate No-Outliers Incorrectly Detected (False Positives):  23057\n",
      "Fraudulent Outliers Missed (False Negatives):  1270\n",
      "Fraudulent Outliers Detected (True Positives):  6561\n",
      "Total Outliers:  7831\n",
      "Total No-Outliers:  177427\n"
     ]
    },
    {
     "data": {
      "image/png": "[encoded data removed]",
      "text/plain": [
       "<Figure size 900x700 with 2 Axes>"
      ]
     },
     "metadata": {},
     "output_type": "display_data"
    }
   ],
   "source": [
    "plot_cm(test_labels, test_predictions_weighted)"
   ]
  },
  {
   "cell_type": "code",
   "execution_count": 19,
   "id": "60c69c3d",
   "metadata": {},
   "outputs": [
    {
     "name": "stdout",
     "output_type": "stream",
     "text": [
      "loss :  0.35\n",
      "accuracy :  0.87\n",
      "precision :  0.22\n",
      "recall :  0.84\n",
      "auc :  0.93\n",
      "f1 :  0.35\n"
     ]
    }
   ],
   "source": [
    "weighted_results = weighted_model.evaluate(test_features, test_labels,\n",
    "                                           batch_size=BATCH_SIZE, verbose=0)\n",
    "for name, value in zip(weighted_model.metrics_names, weighted_results):\n",
    "  print(name, ': ', np.round(value, 2))\n",
    "\n",
    "f1 = (2*weighted_results[2]*weighted_results[3])/(weighted_results[2]+weighted_results[3])\n",
    "print(\"f1 : \", np.round(f1, 2))"
   ]
  },
  {
   "cell_type": "markdown",
   "id": "31f7f587",
   "metadata": {},
   "source": [
    "# Decile Analysis"
   ]
  },
  {
   "cell_type": "code",
   "execution_count": 20,
   "id": "2a0d8920",
   "metadata": {},
   "outputs": [
    {
     "data": {
      "text/html": [
       "<div>\n",
       "<style scoped>\n",
       "    .dataframe tbody tr th:only-of-type {\n",
       "        vertical-align: middle;\n",
       "    }\n",
       "\n",
       "    .dataframe tbody tr th {\n",
       "        vertical-align: top;\n",
       "    }\n",
       "\n",
       "    .dataframe thead th {\n",
       "        text-align: right;\n",
       "    }\n",
       "</style>\n",
       "<table border=\"1\" class=\"dataframe\">\n",
       "  <thead>\n",
       "    <tr style=\"text-align: right;\">\n",
       "      <th></th>\n",
       "      <th>Batch</th>\n",
       "      <th>Cumulative Batch</th>\n",
       "      <th>Cumulative % Batch</th>\n",
       "      <th>True label</th>\n",
       "      <th>True label %</th>\n",
       "      <th>Cumulative label %</th>\n",
       "      <th>Probability Range</th>\n",
       "    </tr>\n",
       "    <tr>\n",
       "      <th>Decile</th>\n",
       "      <th></th>\n",
       "      <th></th>\n",
       "      <th></th>\n",
       "      <th></th>\n",
       "      <th></th>\n",
       "      <th></th>\n",
       "      <th></th>\n",
       "    </tr>\n",
       "  </thead>\n",
       "  <tbody>\n",
       "    <tr>\n",
       "      <th>1</th>\n",
       "      <td>18526</td>\n",
       "      <td>18526</td>\n",
       "      <td>0.1</td>\n",
       "      <td>5689</td>\n",
       "      <td>0.7265</td>\n",
       "      <td>0.7265</td>\n",
       "      <td>1.0 - 0.6265</td>\n",
       "    </tr>\n",
       "    <tr>\n",
       "      <th>2</th>\n",
       "      <td>18526</td>\n",
       "      <td>37052</td>\n",
       "      <td>0.2</td>\n",
       "      <td>1237</td>\n",
       "      <td>0.1580</td>\n",
       "      <td>0.8844</td>\n",
       "      <td>0.6265 - 0.426</td>\n",
       "    </tr>\n",
       "    <tr>\n",
       "      <th>3</th>\n",
       "      <td>18526</td>\n",
       "      <td>55578</td>\n",
       "      <td>0.3</td>\n",
       "      <td>491</td>\n",
       "      <td>0.0627</td>\n",
       "      <td>0.9471</td>\n",
       "      <td>0.426 - 0.2941</td>\n",
       "    </tr>\n",
       "    <tr>\n",
       "      <th>4</th>\n",
       "      <td>18526</td>\n",
       "      <td>74104</td>\n",
       "      <td>0.4</td>\n",
       "      <td>189</td>\n",
       "      <td>0.0241</td>\n",
       "      <td>0.9713</td>\n",
       "      <td>0.2941 - 0.2115</td>\n",
       "    </tr>\n",
       "    <tr>\n",
       "      <th>5</th>\n",
       "      <td>18526</td>\n",
       "      <td>92630</td>\n",
       "      <td>0.5</td>\n",
       "      <td>94</td>\n",
       "      <td>0.0120</td>\n",
       "      <td>0.9833</td>\n",
       "      <td>0.2115 - 0.1555</td>\n",
       "    </tr>\n",
       "    <tr>\n",
       "      <th>6</th>\n",
       "      <td>18526</td>\n",
       "      <td>111156</td>\n",
       "      <td>0.6</td>\n",
       "      <td>54</td>\n",
       "      <td>0.0069</td>\n",
       "      <td>0.9902</td>\n",
       "      <td>0.1555 - 0.1164</td>\n",
       "    </tr>\n",
       "    <tr>\n",
       "      <th>7</th>\n",
       "      <td>18526</td>\n",
       "      <td>129682</td>\n",
       "      <td>0.7</td>\n",
       "      <td>38</td>\n",
       "      <td>0.0049</td>\n",
       "      <td>0.9950</td>\n",
       "      <td>0.1164 - 0.0875</td>\n",
       "    </tr>\n",
       "    <tr>\n",
       "      <th>8</th>\n",
       "      <td>18526</td>\n",
       "      <td>148208</td>\n",
       "      <td>0.8</td>\n",
       "      <td>6</td>\n",
       "      <td>0.0008</td>\n",
       "      <td>0.9958</td>\n",
       "      <td>0.0875 - 0.068</td>\n",
       "    </tr>\n",
       "    <tr>\n",
       "      <th>9</th>\n",
       "      <td>18525</td>\n",
       "      <td>166733</td>\n",
       "      <td>0.9</td>\n",
       "      <td>9</td>\n",
       "      <td>0.0011</td>\n",
       "      <td>0.9969</td>\n",
       "      <td>0.068 - 0.0467</td>\n",
       "    </tr>\n",
       "    <tr>\n",
       "      <th>10</th>\n",
       "      <td>18525</td>\n",
       "      <td>185258</td>\n",
       "      <td>1.0</td>\n",
       "      <td>24</td>\n",
       "      <td>0.0031</td>\n",
       "      <td>1.0000</td>\n",
       "      <td>0.0467 - 0.0</td>\n",
       "    </tr>\n",
       "  </tbody>\n",
       "</table>\n",
       "</div>"
      ],
      "text/plain": [
       "        Batch  Cumulative Batch  Cumulative % Batch  True label  True label %  \\\n",
       "Decile                                                                          \n",
       "1       18526             18526                 0.1        5689        0.7265   \n",
       "2       18526             37052                 0.2        1237        0.1580   \n",
       "3       18526             55578                 0.3         491        0.0627   \n",
       "4       18526             74104                 0.4         189        0.0241   \n",
       "5       18526             92630                 0.5          94        0.0120   \n",
       "6       18526            111156                 0.6          54        0.0069   \n",
       "7       18526            129682                 0.7          38        0.0049   \n",
       "8       18526            148208                 0.8           6        0.0008   \n",
       "9       18525            166733                 0.9           9        0.0011   \n",
       "10      18525            185258                 1.0          24        0.0031   \n",
       "\n",
       "        Cumulative label % Probability Range  \n",
       "Decile                                        \n",
       "1                   0.7265      1.0 - 0.6265  \n",
       "2                   0.8844    0.6265 - 0.426  \n",
       "3                   0.9471    0.426 - 0.2941  \n",
       "4                   0.9713   0.2941 - 0.2115  \n",
       "5                   0.9833   0.2115 - 0.1555  \n",
       "6                   0.9902   0.1555 - 0.1164  \n",
       "7                   0.9950   0.1164 - 0.0875  \n",
       "8                   0.9958    0.0875 - 0.068  \n",
       "9                   0.9969    0.068 - 0.0467  \n",
       "10                  1.0000      0.0467 - 0.0  "
      ]
     },
     "execution_count": 20,
     "metadata": {},
     "output_type": "execute_result"
    }
   ],
   "source": [
    "decile_analysis = fn.decile_analysis(test_predictions_weighted, test_labels)\n",
    "decile_analysis"
   ]
  },
  {
   "cell_type": "code",
   "execution_count": 21,
   "id": "b9d414e6",
   "metadata": {},
   "outputs": [
    {
     "data": {
      "image/png": "[encoded data removed]",
      "text/plain": [
       "<Figure size 700x400 with 1 Axes>"
      ]
     },
     "metadata": {},
     "output_type": "display_data"
    }
   ],
   "source": [
    "vz.decile_analysis_plot(decile_analysis[\"True label %\"])"
   ]
  },
  {
   "cell_type": "code",
   "execution_count": 22,
   "id": "71787800",
   "metadata": {},
   "outputs": [
    {
     "data": {
      "text/plain": [
       "array([0.1150553 , 0.02569348, 0.3382126 , ..., 0.24229908, 0.48085573,\n",
       "       0.57810295], dtype=float32)"
      ]
     },
     "execution_count": 22,
     "metadata": {},
     "output_type": "execute_result"
    }
   ],
   "source": [
    "test_predictions_weighted = test_predictions_weighted.ravel()\n",
    "test_predictions_weighted"
   ]
  },
  {
   "cell_type": "code",
   "execution_count": 23,
   "id": "2439dab5",
   "metadata": {},
   "outputs": [
    {
     "data": {
      "text/plain": [
       "[(0.0875, 0.116], (-0.001, 0.0467], (0.294, 0.426], (0.0467, 0.068], (0.294, 0.426], ..., (0.116, 0.156], (0.294, 0.426], (0.212, 0.294], (0.426, 0.627], (0.426, 0.627]]\n",
       "Length: 185258\n",
       "Categories (10, interval[float64, right]): [(-0.001, 0.0467] < (0.0467, 0.068] < (0.068, 0.0875] < (0.0875, 0.116] ... (0.212, 0.294] < (0.294, 0.426] < (0.426, 0.627] < (0.627, 1.0]]"
      ]
     },
     "execution_count": 23,
     "metadata": {},
     "output_type": "execute_result"
    }
   ],
   "source": [
    "x = pd.qcut(test_predictions_weighted, 10)\n",
    "x"
   ]
  },
  {
   "cell_type": "code",
   "execution_count": 24,
   "id": "006774e4",
   "metadata": {},
   "outputs": [
    {
     "data": {
      "text/html": [
       "<div>\n",
       "<style scoped>\n",
       "    .dataframe tbody tr th:only-of-type {\n",
       "        vertical-align: middle;\n",
       "    }\n",
       "\n",
       "    .dataframe tbody tr th {\n",
       "        vertical-align: top;\n",
       "    }\n",
       "\n",
       "    .dataframe thead th {\n",
       "        text-align: right;\n",
       "    }\n",
       "</style>\n",
       "<table border=\"1\" class=\"dataframe\">\n",
       "  <thead>\n",
       "    <tr style=\"text-align: right;\">\n",
       "      <th></th>\n",
       "      <th>interval</th>\n",
       "      <th>prob</th>\n",
       "    </tr>\n",
       "  </thead>\n",
       "  <tbody>\n",
       "    <tr>\n",
       "      <th>23398</th>\n",
       "      <td>(0.627, 1.0]</td>\n",
       "      <td>1.0</td>\n",
       "    </tr>\n",
       "    <tr>\n",
       "      <th>16859</th>\n",
       "      <td>(0.627, 1.0]</td>\n",
       "      <td>1.0</td>\n",
       "    </tr>\n",
       "    <tr>\n",
       "      <th>90508</th>\n",
       "      <td>(0.627, 1.0]</td>\n",
       "      <td>1.0</td>\n",
       "    </tr>\n",
       "    <tr>\n",
       "      <th>147506</th>\n",
       "      <td>(0.627, 1.0]</td>\n",
       "      <td>1.0</td>\n",
       "    </tr>\n",
       "    <tr>\n",
       "      <th>127092</th>\n",
       "      <td>(0.627, 1.0]</td>\n",
       "      <td>1.0</td>\n",
       "    </tr>\n",
       "    <tr>\n",
       "      <th>...</th>\n",
       "      <td>...</td>\n",
       "      <td>...</td>\n",
       "    </tr>\n",
       "    <tr>\n",
       "      <th>26441</th>\n",
       "      <td>(-0.001, 0.0467]</td>\n",
       "      <td>0.0</td>\n",
       "    </tr>\n",
       "    <tr>\n",
       "      <th>177621</th>\n",
       "      <td>(-0.001, 0.0467]</td>\n",
       "      <td>0.0</td>\n",
       "    </tr>\n",
       "    <tr>\n",
       "      <th>155313</th>\n",
       "      <td>(-0.001, 0.0467]</td>\n",
       "      <td>0.0</td>\n",
       "    </tr>\n",
       "    <tr>\n",
       "      <th>88582</th>\n",
       "      <td>(-0.001, 0.0467]</td>\n",
       "      <td>0.0</td>\n",
       "    </tr>\n",
       "    <tr>\n",
       "      <th>109006</th>\n",
       "      <td>(-0.001, 0.0467]</td>\n",
       "      <td>0.0</td>\n",
       "    </tr>\n",
       "  </tbody>\n",
       "</table>\n",
       "<p>185258 rows × 2 columns</p>\n",
       "</div>"
      ],
      "text/plain": [
       "                interval  prob\n",
       "23398       (0.627, 1.0]   1.0\n",
       "16859       (0.627, 1.0]   1.0\n",
       "90508       (0.627, 1.0]   1.0\n",
       "147506      (0.627, 1.0]   1.0\n",
       "127092      (0.627, 1.0]   1.0\n",
       "...                  ...   ...\n",
       "26441   (-0.001, 0.0467]   0.0\n",
       "177621  (-0.001, 0.0467]   0.0\n",
       "155313  (-0.001, 0.0467]   0.0\n",
       "88582   (-0.001, 0.0467]   0.0\n",
       "109006  (-0.001, 0.0467]   0.0\n",
       "\n",
       "[185258 rows x 2 columns]"
      ]
     },
     "execution_count": 24,
     "metadata": {},
     "output_type": "execute_result"
    }
   ],
   "source": [
    "z = pd.DataFrame(\n",
    "    data = {\n",
    "        \"interval\": x,\n",
    "        \"prob\": test_predictions_weighted\n",
    "    }\n",
    ").sort_values(by = \"prob\")[::-1]\n",
    "z"
   ]
  },
  {
   "cell_type": "code",
   "execution_count": 25,
   "id": "c9d67774",
   "metadata": {},
   "outputs": [],
   "source": [
    "z.reset_index(inplace=True)\n",
    "z.drop(columns=[\"index\"], inplace=True)"
   ]
  },
  {
   "cell_type": "code",
   "execution_count": 26,
   "id": "138011b1",
   "metadata": {},
   "outputs": [],
   "source": [
    "z[\"interval\"] = z[\"interval\"].astype(str)"
   ]
  },
  {
   "cell_type": "code",
   "execution_count": 27,
   "id": "5d23e05d",
   "metadata": {},
   "outputs": [],
   "source": [
    "# test_df\n",
    "# test_df.reset_index(inplace=True)\n",
    "# test_df.drop(columns=[\"index\"], inplace=True)"
   ]
  },
  {
   "cell_type": "code",
   "execution_count": 28,
   "id": "8888d794",
   "metadata": {},
   "outputs": [],
   "source": [
    "z = z.join(pd.DataFrame(test_features))"
   ]
  },
  {
   "cell_type": "code",
   "execution_count": 38,
   "id": "82798b2d",
   "metadata": {},
   "outputs": [
    {
     "data": {
      "text/plain": [
       "{'(-0.001, 0.0467]',\n",
       " '(0.0467, 0.068]',\n",
       " '(0.068, 0.0875]',\n",
       " '(0.0875, 0.116]',\n",
       " '(0.116, 0.156]',\n",
       " '(0.156, 0.212]',\n",
       " '(0.212, 0.294]',\n",
       " '(0.294, 0.426]',\n",
       " '(0.426, 0.627]',\n",
       " '(0.627, 1.0]'}"
      ]
     },
     "execution_count": 38,
     "metadata": {},
     "output_type": "execute_result"
    }
   ],
   "source": [
    "zdict = set(z[\"interval\"])\n",
    "zdict"
   ]
  },
  {
   "cell_type": "code",
   "execution_count": 41,
   "id": "ef797a49",
   "metadata": {},
   "outputs": [],
   "source": [
    "xaa = {\n",
    "    '(-0.001, 0.0467]':10,\n",
    " '(0.0467, 0.068]':9,\n",
    " '(0.068, 0.0875]':8,\n",
    " '(0.0875, 0.116]':7,\n",
    " '(0.116, 0.156]':6,\n",
    " '(0.156, 0.212]':5,\n",
    " '(0.212, 0.294]':4,\n",
    " '(0.294, 0.426]':3,\n",
    " '(0.426, 0.627]':2,\n",
    " '(0.627, 1.0]': 1\n",
    "}"
   ]
  },
  {
   "cell_type": "code",
   "execution_count": 42,
   "id": "fe0d4c07",
   "metadata": {},
   "outputs": [],
   "source": [
    "dict = {value:key for key, value in xaa.items()}"
   ]
  },
  {
   "cell_type": "code",
   "execution_count": 43,
   "id": "5b84866a",
   "metadata": {},
   "outputs": [],
   "source": [
    "z[\"decile\"] = z[\"interval\"].map(xaa)"
   ]
  },
  {
   "cell_type": "code",
   "execution_count": 56,
   "id": "aca0162e",
   "metadata": {},
   "outputs": [],
   "source": [
    "zgby = z.groupby(by=[\"decile\"]).mean()"
   ]
  },
  {
   "cell_type": "code",
   "execution_count": 57,
   "id": "8c3776b3",
   "metadata": {},
   "outputs": [
    {
     "data": {
      "text/html": [
       "<div>\n",
       "<style scoped>\n",
       "    .dataframe tbody tr th:only-of-type {\n",
       "        vertical-align: middle;\n",
       "    }\n",
       "\n",
       "    .dataframe tbody tr th {\n",
       "        vertical-align: top;\n",
       "    }\n",
       "\n",
       "    .dataframe thead th {\n",
       "        text-align: right;\n",
       "    }\n",
       "</style>\n",
       "<table border=\"1\" class=\"dataframe\">\n",
       "  <thead>\n",
       "    <tr style=\"text-align: right;\">\n",
       "      <th></th>\n",
       "      <th>prob</th>\n",
       "      <th>0</th>\n",
       "      <th>1</th>\n",
       "      <th>2</th>\n",
       "      <th>3</th>\n",
       "      <th>4</th>\n",
       "      <th>5</th>\n",
       "      <th>6</th>\n",
       "      <th>7</th>\n",
       "      <th>8</th>\n",
       "      <th>9</th>\n",
       "      <th>10</th>\n",
       "      <th>11</th>\n",
       "      <th>12</th>\n",
       "      <th>13</th>\n",
       "      <th>14</th>\n",
       "      <th>15</th>\n",
       "    </tr>\n",
       "    <tr>\n",
       "      <th>decile</th>\n",
       "      <th></th>\n",
       "      <th></th>\n",
       "      <th></th>\n",
       "      <th></th>\n",
       "      <th></th>\n",
       "      <th></th>\n",
       "      <th></th>\n",
       "      <th></th>\n",
       "      <th></th>\n",
       "      <th></th>\n",
       "      <th></th>\n",
       "      <th></th>\n",
       "      <th></th>\n",
       "      <th></th>\n",
       "      <th></th>\n",
       "      <th></th>\n",
       "      <th></th>\n",
       "    </tr>\n",
       "  </thead>\n",
       "  <tbody>\n",
       "    <tr>\n",
       "      <th>1</th>\n",
       "      <td>0.79</td>\n",
       "      <td>0.00</td>\n",
       "      <td>-0.01</td>\n",
       "      <td>0.01</td>\n",
       "      <td>-0.00</td>\n",
       "      <td>-0.01</td>\n",
       "      <td>0.01</td>\n",
       "      <td>0.00</td>\n",
       "      <td>-0.00</td>\n",
       "      <td>-0.00</td>\n",
       "      <td>0.00</td>\n",
       "      <td>0.02</td>\n",
       "      <td>0.00</td>\n",
       "      <td>-0.01</td>\n",
       "      <td>0.01</td>\n",
       "      <td>-0.0</td>\n",
       "      <td>-0.01</td>\n",
       "    </tr>\n",
       "    <tr>\n",
       "      <th>2</th>\n",
       "      <td>0.52</td>\n",
       "      <td>0.01</td>\n",
       "      <td>0.01</td>\n",
       "      <td>-0.00</td>\n",
       "      <td>-0.01</td>\n",
       "      <td>-0.01</td>\n",
       "      <td>-0.00</td>\n",
       "      <td>0.01</td>\n",
       "      <td>-0.00</td>\n",
       "      <td>0.00</td>\n",
       "      <td>0.01</td>\n",
       "      <td>-0.00</td>\n",
       "      <td>0.00</td>\n",
       "      <td>0.01</td>\n",
       "      <td>0.00</td>\n",
       "      <td>-0.0</td>\n",
       "      <td>0.01</td>\n",
       "    </tr>\n",
       "    <tr>\n",
       "      <th>3</th>\n",
       "      <td>0.36</td>\n",
       "      <td>-0.00</td>\n",
       "      <td>0.01</td>\n",
       "      <td>0.01</td>\n",
       "      <td>-0.01</td>\n",
       "      <td>0.01</td>\n",
       "      <td>-0.01</td>\n",
       "      <td>-0.00</td>\n",
       "      <td>-0.00</td>\n",
       "      <td>-0.01</td>\n",
       "      <td>-0.00</td>\n",
       "      <td>-0.00</td>\n",
       "      <td>0.00</td>\n",
       "      <td>-0.00</td>\n",
       "      <td>0.01</td>\n",
       "      <td>-0.0</td>\n",
       "      <td>0.01</td>\n",
       "    </tr>\n",
       "    <tr>\n",
       "      <th>4</th>\n",
       "      <td>0.25</td>\n",
       "      <td>0.00</td>\n",
       "      <td>-0.00</td>\n",
       "      <td>0.01</td>\n",
       "      <td>-0.00</td>\n",
       "      <td>-0.01</td>\n",
       "      <td>-0.00</td>\n",
       "      <td>0.00</td>\n",
       "      <td>-0.00</td>\n",
       "      <td>-0.00</td>\n",
       "      <td>-0.00</td>\n",
       "      <td>-0.00</td>\n",
       "      <td>0.00</td>\n",
       "      <td>-0.00</td>\n",
       "      <td>0.01</td>\n",
       "      <td>-0.0</td>\n",
       "      <td>-0.01</td>\n",
       "    </tr>\n",
       "    <tr>\n",
       "      <th>5</th>\n",
       "      <td>0.18</td>\n",
       "      <td>-0.00</td>\n",
       "      <td>0.00</td>\n",
       "      <td>0.00</td>\n",
       "      <td>-0.00</td>\n",
       "      <td>-0.00</td>\n",
       "      <td>0.00</td>\n",
       "      <td>0.01</td>\n",
       "      <td>0.04</td>\n",
       "      <td>-0.00</td>\n",
       "      <td>-0.00</td>\n",
       "      <td>-0.00</td>\n",
       "      <td>-0.00</td>\n",
       "      <td>0.00</td>\n",
       "      <td>-0.00</td>\n",
       "      <td>-0.0</td>\n",
       "      <td>0.00</td>\n",
       "    </tr>\n",
       "    <tr>\n",
       "      <th>6</th>\n",
       "      <td>0.13</td>\n",
       "      <td>0.01</td>\n",
       "      <td>-0.00</td>\n",
       "      <td>0.01</td>\n",
       "      <td>0.00</td>\n",
       "      <td>-0.00</td>\n",
       "      <td>0.01</td>\n",
       "      <td>-0.00</td>\n",
       "      <td>-0.00</td>\n",
       "      <td>-0.01</td>\n",
       "      <td>0.01</td>\n",
       "      <td>0.00</td>\n",
       "      <td>-0.01</td>\n",
       "      <td>0.01</td>\n",
       "      <td>0.01</td>\n",
       "      <td>-0.0</td>\n",
       "      <td>-0.00</td>\n",
       "    </tr>\n",
       "    <tr>\n",
       "      <th>7</th>\n",
       "      <td>0.10</td>\n",
       "      <td>0.00</td>\n",
       "      <td>0.01</td>\n",
       "      <td>-0.00</td>\n",
       "      <td>-0.00</td>\n",
       "      <td>0.00</td>\n",
       "      <td>0.01</td>\n",
       "      <td>-0.00</td>\n",
       "      <td>-0.00</td>\n",
       "      <td>0.00</td>\n",
       "      <td>0.00</td>\n",
       "      <td>0.00</td>\n",
       "      <td>0.01</td>\n",
       "      <td>0.00</td>\n",
       "      <td>-0.00</td>\n",
       "      <td>0.0</td>\n",
       "      <td>-0.02</td>\n",
       "    </tr>\n",
       "    <tr>\n",
       "      <th>8</th>\n",
       "      <td>0.08</td>\n",
       "      <td>-0.01</td>\n",
       "      <td>-0.00</td>\n",
       "      <td>0.01</td>\n",
       "      <td>-0.00</td>\n",
       "      <td>0.01</td>\n",
       "      <td>-0.00</td>\n",
       "      <td>-0.00</td>\n",
       "      <td>-0.00</td>\n",
       "      <td>0.00</td>\n",
       "      <td>-0.00</td>\n",
       "      <td>-0.00</td>\n",
       "      <td>-0.00</td>\n",
       "      <td>0.00</td>\n",
       "      <td>-0.01</td>\n",
       "      <td>0.0</td>\n",
       "      <td>0.00</td>\n",
       "    </tr>\n",
       "    <tr>\n",
       "      <th>9</th>\n",
       "      <td>0.06</td>\n",
       "      <td>-0.01</td>\n",
       "      <td>0.00</td>\n",
       "      <td>0.00</td>\n",
       "      <td>0.00</td>\n",
       "      <td>-0.01</td>\n",
       "      <td>0.00</td>\n",
       "      <td>-0.00</td>\n",
       "      <td>-0.00</td>\n",
       "      <td>-0.00</td>\n",
       "      <td>-0.01</td>\n",
       "      <td>0.01</td>\n",
       "      <td>-0.00</td>\n",
       "      <td>-0.00</td>\n",
       "      <td>-0.00</td>\n",
       "      <td>0.0</td>\n",
       "      <td>0.00</td>\n",
       "    </tr>\n",
       "    <tr>\n",
       "      <th>10</th>\n",
       "      <td>0.03</td>\n",
       "      <td>-0.00</td>\n",
       "      <td>0.00</td>\n",
       "      <td>-0.01</td>\n",
       "      <td>-0.01</td>\n",
       "      <td>0.00</td>\n",
       "      <td>0.00</td>\n",
       "      <td>-0.00</td>\n",
       "      <td>-0.00</td>\n",
       "      <td>-0.00</td>\n",
       "      <td>-0.01</td>\n",
       "      <td>-0.00</td>\n",
       "      <td>0.01</td>\n",
       "      <td>-0.00</td>\n",
       "      <td>-0.00</td>\n",
       "      <td>0.0</td>\n",
       "      <td>0.00</td>\n",
       "    </tr>\n",
       "  </tbody>\n",
       "</table>\n",
       "</div>"
      ],
      "text/plain": [
       "        prob     0     1     2     3     4     5     6     7     8     9  \\\n",
       "decile                                                                     \n",
       "1       0.79  0.00 -0.01  0.01 -0.00 -0.01  0.01  0.00 -0.00 -0.00  0.00   \n",
       "2       0.52  0.01  0.01 -0.00 -0.01 -0.01 -0.00  0.01 -0.00  0.00  0.01   \n",
       "3       0.36 -0.00  0.01  0.01 -0.01  0.01 -0.01 -0.00 -0.00 -0.01 -0.00   \n",
       "4       0.25  0.00 -0.00  0.01 -0.00 -0.01 -0.00  0.00 -0.00 -0.00 -0.00   \n",
       "5       0.18 -0.00  0.00  0.00 -0.00 -0.00  0.00  0.01  0.04 -0.00 -0.00   \n",
       "6       0.13  0.01 -0.00  0.01  0.00 -0.00  0.01 -0.00 -0.00 -0.01  0.01   \n",
       "7       0.10  0.00  0.01 -0.00 -0.00  0.00  0.01 -0.00 -0.00  0.00  0.00   \n",
       "8       0.08 -0.01 -0.00  0.01 -0.00  0.01 -0.00 -0.00 -0.00  0.00 -0.00   \n",
       "9       0.06 -0.01  0.00  0.00  0.00 -0.01  0.00 -0.00 -0.00 -0.00 -0.01   \n",
       "10      0.03 -0.00  0.00 -0.01 -0.01  0.00  0.00 -0.00 -0.00 -0.00 -0.01   \n",
       "\n",
       "          10    11    12    13   14    15  \n",
       "decile                                     \n",
       "1       0.02  0.00 -0.01  0.01 -0.0 -0.01  \n",
       "2      -0.00  0.00  0.01  0.00 -0.0  0.01  \n",
       "3      -0.00  0.00 -0.00  0.01 -0.0  0.01  \n",
       "4      -0.00  0.00 -0.00  0.01 -0.0 -0.01  \n",
       "5      -0.00 -0.00  0.00 -0.00 -0.0  0.00  \n",
       "6       0.00 -0.01  0.01  0.01 -0.0 -0.00  \n",
       "7       0.00  0.01  0.00 -0.00  0.0 -0.02  \n",
       "8      -0.00 -0.00  0.00 -0.01  0.0  0.00  \n",
       "9       0.01 -0.00 -0.00 -0.00  0.0  0.00  \n",
       "10     -0.00  0.01 -0.00 -0.00  0.0  0.00  "
      ]
     },
     "execution_count": 57,
     "metadata": {},
     "output_type": "execute_result"
    }
   ],
   "source": [
    "np.round(zgby,2).iloc[:,:17]"
   ]
  },
  {
   "cell_type": "code",
   "execution_count": 58,
   "id": "5401d1bb",
   "metadata": {},
   "outputs": [
    {
     "data": {
      "image/png": "[encoded data removed]",
      "text/plain": [
       "<Figure size 2000x800 with 2 Axes>"
      ]
     },
     "metadata": {},
     "output_type": "display_data"
    }
   ],
   "source": [
    "plt.figure(figsize=(20, 8))\n",
    "sns.heatmap(np.round(np.round(zgby,2).iloc[:,:17],2), vmin=-1, vmax=1,annot=True, cmap='BrBG');"
   ]
  }
 ],
 "metadata": {
  "kernelspec": {
   "display_name": "Python 3 (ipykernel)",
   "language": "python",
   "name": "python3"
  },
  "language_info": {
   "codemirror_mode": {
    "name": "ipython",
    "version": 3
   },
   "file_extension": ".py",
   "mimetype": "text/x-python",
   "name": "python",
   "nbconvert_exporter": "python",
   "pygments_lexer": "ipython3",
   "version": "3.10.5"
  },
  "vscode": {
   "interpreter": {
    "hash": "15712d08c1e5e950e319696aa80ec4374728ea00c43cf824f11c166318310e0e"
   }
  }
 },
 "nbformat": 4,
 "nbformat_minor": 5
}
